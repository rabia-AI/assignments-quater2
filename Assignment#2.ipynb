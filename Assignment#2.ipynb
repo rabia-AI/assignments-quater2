{
 "cells": [
  {
   "cell_type": "markdown",
   "metadata": {},
   "source": [
    "# Numpy_Assignment_2::"
   ]
  },
  {
   "cell_type": "markdown",
   "metadata": {},
   "source": [
    "## Question:1"
   ]
  },
  {
   "cell_type": "markdown",
   "metadata": {},
   "source": [
    "### Convert a 1D array to a 2D array with 2 rows?"
   ]
  },
  {
   "cell_type": "markdown",
   "metadata": {},
   "source": [
    "#### Desired output::"
   ]
  },
  {
   "cell_type": "markdown",
   "metadata": {},
   "source": [
    "array([[0, 1, 2, 3, 4],\n",
    "        [5, 6, 7, 8, 9]])"
   ]
  },
  {
   "cell_type": "code",
   "execution_count": 1,
   "metadata": {},
   "outputs": [
    {
     "name": "stdout",
     "output_type": "stream",
     "text": [
      "[[0 1 2 3 4]\n",
      " [5 6 7 8 9]]\n"
     ]
    }
   ],
   "source": [
    "import numpy as np\n",
    "arr = np.array([0, 1, 2, 3, 4 , 5, 6, 7, 8, 9])\n",
    "arr = arr.reshape((2,5))\n",
    "print(arr)"
   ]
  },
  {
   "cell_type": "markdown",
   "metadata": {},
   "source": [
    "## Question:2"
   ]
  },
  {
   "cell_type": "markdown",
   "metadata": {},
   "source": [
    "###  How to stack two arrays vertically?"
   ]
  },
  {
   "cell_type": "markdown",
   "metadata": {},
   "source": [
    "#### Desired Output::"
   ]
  },
  {
   "cell_type": "raw",
   "metadata": {},
   "source": [
    "array([[0, 1, 2, 3, 4],\n",
    "        [5, 6, 7, 8, 9],\n",
    "       [1, 1, 1, 1, 1],\n",
    "       [1, 1, 1, 1, 1]])"
   ]
  },
  {
   "cell_type": "code",
   "execution_count": 2,
   "metadata": {},
   "outputs": [
    {
     "name": "stdout",
     "output_type": "stream",
     "text": [
      "[[0 1 2 3 4]\n",
      " [5 6 7 8 9]\n",
      " [1 1 1 1 1]\n",
      " [1 1 1 1 1]]\n"
     ]
    }
   ],
   "source": [
    "arr1 = np.array([[0, 1, 2, 3, 4],\n",
    "                [5, 6, 7, 8, 9]])\n",
    "arr2 = np.ones((2,5))\n",
    "arr3 = np.vstack((arr1,arr2))\n",
    "arr3 = arr3.astype('int32')\n",
    "print(arr3)"
   ]
  },
  {
   "cell_type": "markdown",
   "metadata": {},
   "source": [
    "## Question:3"
   ]
  },
  {
   "cell_type": "markdown",
   "metadata": {},
   "source": [
    "### How to stack two arrays horizontally?"
   ]
  },
  {
   "cell_type": "markdown",
   "metadata": {},
   "source": [
    "#### Desired Output::"
   ]
  },
  {
   "cell_type": "raw",
   "metadata": {},
   "source": [
    "array([[0, 1, 2, 3, 4, 1, 1, 1, 1, 1],\n",
    "       [5, 6, 7, 8, 9, 1, 1, 1, 1, 1]])"
   ]
  },
  {
   "cell_type": "code",
   "execution_count": 3,
   "metadata": {},
   "outputs": [
    {
     "name": "stdout",
     "output_type": "stream",
     "text": [
      "[[0 1 2 3 4 1 1 1 1 1]\n",
      " [5 6 7 8 9 1 1 1 1 1]]\n"
     ]
    }
   ],
   "source": [
    "arr4 = np.hstack((arr1,arr2))\n",
    "arr4 = arr4.astype('int32')\n",
    "print(arr4)"
   ]
  },
  {
   "cell_type": "markdown",
   "metadata": {},
   "source": [
    "## Question:4"
   ]
  },
  {
   "cell_type": "markdown",
   "metadata": {},
   "source": [
    "### How to convert an array of arrays into a flat 1d array?"
   ]
  },
  {
   "cell_type": "markdown",
   "metadata": {},
   "source": [
    "#### Desired Output::"
   ]
  },
  {
   "cell_type": "raw",
   "metadata": {},
   "source": [
    "array([0, 1, 2, 3, 4, 5, 6, 7, 8, 9])"
   ]
  },
  {
   "cell_type": "code",
   "execution_count": 4,
   "metadata": {},
   "outputs": [
    {
     "name": "stdout",
     "output_type": "stream",
     "text": [
      "[0 1 2 3 4 5 6 7 8 9]\n"
     ]
    }
   ],
   "source": [
    "arr = arr.flatten()\n",
    "print(arr)"
   ]
  },
  {
   "cell_type": "markdown",
   "metadata": {},
   "source": [
    "## Question:5"
   ]
  },
  {
   "cell_type": "markdown",
   "metadata": {},
   "source": [
    "### How to Convert higher dimension into one dimension?"
   ]
  },
  {
   "cell_type": "markdown",
   "metadata": {},
   "source": [
    "#### Desired Output::"
   ]
  },
  {
   "cell_type": "raw",
   "metadata": {},
   "source": [
    "array([ 0, 1, 2, 3, 4, 5, 6, 7, 8, 9, 10, 11, 12, 13, 14])"
   ]
  },
  {
   "cell_type": "code",
   "execution_count": 5,
   "metadata": {},
   "outputs": [
    {
     "name": "stdout",
     "output_type": "stream",
     "text": [
      "[ 0  1  2  3  4  5  6  7  8  9 10 11 12 13 14]\n"
     ]
    }
   ],
   "source": [
    "arr5 = np.array([\n",
    "    [ 0, 1, 2],\n",
    "    [ 3, 4, 5],\n",
    "    [ 6, 7, 8],\n",
    "    [ 9, 10, 11],\n",
    "    [12, 13, 14]\n",
    "])\n",
    "arr5 = np.ravel(arr5)\n",
    "print(arr5)"
   ]
  },
  {
   "cell_type": "markdown",
   "metadata": {},
   "source": [
    "## Question:6"
   ]
  },
  {
   "cell_type": "markdown",
   "metadata": {},
   "source": [
    "### Convert one dimension to higher dimension?"
   ]
  },
  {
   "cell_type": "markdown",
   "metadata": {},
   "source": [
    "#### Desired Output::"
   ]
  },
  {
   "cell_type": "raw",
   "metadata": {},
   "source": [
    "array([[ 0, 1, 2],\n",
    "[ 3, 4, 5],\n",
    "[ 6, 7, 8],\n",
    "[ 9, 10, 11],\n",
    "[12, 13, 14]])"
   ]
  },
  {
   "cell_type": "code",
   "execution_count": 6,
   "metadata": {},
   "outputs": [
    {
     "data": {
      "text/plain": [
       "array([[ 0,  1,  2],\n",
       "       [ 3,  4,  5],\n",
       "       [ 6,  7,  8],\n",
       "       [ 9, 10, 11],\n",
       "       [12, 13, 14]])"
      ]
     },
     "execution_count": 6,
     "metadata": {},
     "output_type": "execute_result"
    }
   ],
   "source": [
    "arr5.reshape(5,3)"
   ]
  },
  {
   "cell_type": "markdown",
   "metadata": {},
   "source": [
    "## Question:7"
   ]
  },
  {
   "cell_type": "markdown",
   "metadata": {},
   "source": [
    "### Create 5x5 an array and find the square of an array?"
   ]
  },
  {
   "cell_type": "code",
   "execution_count": 7,
   "metadata": {},
   "outputs": [
    {
     "name": "stdout",
     "output_type": "stream",
     "text": [
      "Original Array: \n",
      "\n",
      "[[13 18 10 24 13]\n",
      " [ 5 16 22 13 10]\n",
      " [ 3 21 11 12 20]\n",
      " [ 1  1  8  1 23]\n",
      " [14 16  3 20 17]]\n",
      "\n",
      "\n",
      "Square of Array: \n",
      "\n",
      "[[169 324 100 576 169]\n",
      " [ 25 256 484 169 100]\n",
      " [  9 441 121 144 400]\n",
      " [  1   1  64   1 529]\n",
      " [196 256   9 400 289]]\n"
     ]
    }
   ],
   "source": [
    "arr6 = np.random.randint(1,25, size = (5,5))\n",
    "print(\"Original Array: \\n\")\n",
    "print (arr6)\n",
    "print(\"\\n\")\n",
    "print(\"Square of Array: \\n\")\n",
    "print(arr6 ** 2)"
   ]
  },
  {
   "cell_type": "markdown",
   "metadata": {},
   "source": [
    "## Question:8"
   ]
  },
  {
   "cell_type": "markdown",
   "metadata": {},
   "source": [
    "### Create 5x6 an array and find the mean?"
   ]
  },
  {
   "cell_type": "code",
   "execution_count": 8,
   "metadata": {},
   "outputs": [
    {
     "name": "stdout",
     "output_type": "stream",
     "text": [
      "Original Array: \n",
      "\n",
      "[[19  5  7 18 13 11]\n",
      " [ 5 19 11 15 18  7]\n",
      " [ 3 11 10  8 11  1]\n",
      " [16 12 14  9 19 10]\n",
      " [ 3 19 15 19  4 13]]\n",
      "\n",
      "\n",
      "Mean of Array: \n",
      "\n",
      "11.5\n"
     ]
    }
   ],
   "source": [
    "arr8 = np.random.randint(1,20, size = (5,6))\n",
    "print(\"Original Array: \\n\")\n",
    "print (arr8)\n",
    "print(\"\\n\")\n",
    "print(\"Mean of Array: \\n\")\n",
    "print(arr8.mean())"
   ]
  },
  {
   "cell_type": "markdown",
   "metadata": {},
   "source": [
    "## Question:9"
   ]
  },
  {
   "cell_type": "markdown",
   "metadata": {},
   "source": [
    "### Find the standard deviation of the previous array in Q8?"
   ]
  },
  {
   "cell_type": "code",
   "execution_count": 9,
   "metadata": {},
   "outputs": [
    {
     "name": "stdout",
     "output_type": "stream",
     "text": [
      "Original Array: \n",
      "\n",
      "[[19  5  7 18 13 11]\n",
      " [ 5 19 11 15 18  7]\n",
      " [ 3 11 10  8 11  1]\n",
      " [16 12 14  9 19 10]\n",
      " [ 3 19 15 19  4 13]]\n",
      "\n",
      "\n",
      "Standard deviation of Array: \n",
      "\n",
      "5.420639568661002\n"
     ]
    }
   ],
   "source": [
    "print(\"Original Array: \\n\")\n",
    "print (arr8)\n",
    "print(\"\\n\")\n",
    "print(\"Standard deviation of Array: \\n\")\n",
    "print(np.std(arr8))"
   ]
  },
  {
   "cell_type": "markdown",
   "metadata": {},
   "source": [
    "## Question:10"
   ]
  },
  {
   "cell_type": "markdown",
   "metadata": {},
   "source": [
    "### Find the median of the previous array in Q8?"
   ]
  },
  {
   "cell_type": "code",
   "execution_count": 10,
   "metadata": {},
   "outputs": [
    {
     "name": "stdout",
     "output_type": "stream",
     "text": [
      "Original Array: \n",
      "\n",
      "[[19  5  7 18 13 11]\n",
      " [ 5 19 11 15 18  7]\n",
      " [ 3 11 10  8 11  1]\n",
      " [16 12 14  9 19 10]\n",
      " [ 3 19 15 19  4 13]]\n",
      "\n",
      "\n",
      "Median of Array: \n",
      "\n",
      "11.0\n"
     ]
    }
   ],
   "source": [
    "print(\"Original Array: \\n\")\n",
    "print (arr8)\n",
    "print(\"\\n\")\n",
    "print(\"Median of Array: \\n\")\n",
    "print(np.median(arr8))"
   ]
  },
  {
   "cell_type": "markdown",
   "metadata": {},
   "source": [
    "## Question:11"
   ]
  },
  {
   "cell_type": "markdown",
   "metadata": {},
   "source": [
    "### Find the transpose of the previous array in Q8?"
   ]
  },
  {
   "cell_type": "code",
   "execution_count": 11,
   "metadata": {},
   "outputs": [
    {
     "name": "stdout",
     "output_type": "stream",
     "text": [
      "Original Array: \n",
      "\n",
      "[[19  5  7 18 13 11]\n",
      " [ 5 19 11 15 18  7]\n",
      " [ 3 11 10  8 11  1]\n",
      " [16 12 14  9 19 10]\n",
      " [ 3 19 15 19  4 13]]\n",
      "\n",
      "\n",
      "Transpose of Array: \n",
      "\n",
      "[[19  5  3 16  3]\n",
      " [ 5 19 11 12 19]\n",
      " [ 7 11 10 14 15]\n",
      " [18 15  8  9 19]\n",
      " [13 18 11 19  4]\n",
      " [11  7  1 10 13]]\n"
     ]
    }
   ],
   "source": [
    "print(\"Original Array: \\n\")\n",
    "print (arr8)\n",
    "print(\"\\n\")\n",
    "print(\"Transpose of Array: \\n\")\n",
    "print(np.transpose(arr8))"
   ]
  },
  {
   "cell_type": "markdown",
   "metadata": {},
   "source": [
    "## Question:12"
   ]
  },
  {
   "cell_type": "markdown",
   "metadata": {},
   "source": [
    "### Create a 4x4 an array and find the sum of diagonal elements?"
   ]
  },
  {
   "cell_type": "code",
   "execution_count": 12,
   "metadata": {},
   "outputs": [
    {
     "name": "stdout",
     "output_type": "stream",
     "text": [
      "Original Array: \n",
      "\n",
      "[[ 5  9 10  9]\n",
      " [ 6 13 14  7]\n",
      " [14 17  8 13]\n",
      " [13 11  1  8]]\n",
      "\n",
      "\n",
      "Sum of diagonal elements of Array: \n",
      "\n",
      "34\n"
     ]
    }
   ],
   "source": [
    "arr7 = np.random.randint(1,20, size = (4,4))\n",
    "print(\"Original Array: \\n\")\n",
    "print (arr7)\n",
    "print(\"\\n\")\n",
    "print(\"Sum of diagonal elements of Array: \\n\")\n",
    "print(np.trace(arr7))"
   ]
  },
  {
   "cell_type": "markdown",
   "metadata": {},
   "source": [
    "## Question:13"
   ]
  },
  {
   "cell_type": "markdown",
   "metadata": {},
   "source": [
    "### Find the determinant of the previous array in Q12?"
   ]
  },
  {
   "cell_type": "code",
   "execution_count": 13,
   "metadata": {},
   "outputs": [
    {
     "name": "stdout",
     "output_type": "stream",
     "text": [
      "Original Array: \n",
      "\n",
      "[[ 5  9 10  9]\n",
      " [ 6 13 14  7]\n",
      " [14 17  8 13]\n",
      " [13 11  1  8]]\n",
      "\n",
      "\n",
      "Determinant of Array: \n",
      "\n",
      "1099.9999999999995\n"
     ]
    }
   ],
   "source": [
    "print(\"Original Array: \\n\")\n",
    "print (arr7)\n",
    "print(\"\\n\")\n",
    "print(\"Determinant of Array: \\n\")\n",
    "print(np.linalg.det(arr7))"
   ]
  },
  {
   "cell_type": "markdown",
   "metadata": {},
   "source": [
    "## Question:14"
   ]
  },
  {
   "cell_type": "markdown",
   "metadata": {},
   "source": [
    "### Find the 5th and 95th percentile of an array?"
   ]
  },
  {
   "cell_type": "code",
   "execution_count": 14,
   "metadata": {
    "scrolled": true
   },
   "outputs": [
    {
     "name": "stdout",
     "output_type": "stream",
     "text": [
      "Original Array: \n",
      "\n",
      "[[ 5  9 10  9]\n",
      " [ 6 13 14  7]\n",
      " [14 17  8 13]\n",
      " [13 11  1  8]]\n",
      "\n",
      "\n",
      "5th percentile of array: 4.0\n",
      "95th percentile of array: 14.75\n"
     ]
    }
   ],
   "source": [
    "print(\"Original Array: \\n\")\n",
    "print (arr7)\n",
    "print(\"\\n\")\n",
    "print(f\"5th percentile of array: {np.percentile(arr7, 5)}\")\n",
    "print(f\"95th percentile of array: {np.percentile(arr7, 95)}\")\n"
   ]
  },
  {
   "cell_type": "markdown",
   "metadata": {},
   "source": [
    "## Question:15"
   ]
  },
  {
   "cell_type": "markdown",
   "metadata": {},
   "source": [
    "### How to find if a given array has any null values?"
   ]
  },
  {
   "cell_type": "code",
   "execution_count": 15,
   "metadata": {},
   "outputs": [
    {
     "data": {
      "text/plain": [
       "False"
      ]
     },
     "execution_count": 15,
     "metadata": {},
     "output_type": "execute_result"
    }
   ],
   "source": [
    "np.isnan(arr7).any()"
   ]
  }
 ],
 "metadata": {
  "kernelspec": {
   "display_name": "Python 3",
   "language": "python",
   "name": "python3"
  },
  "language_info": {
   "codemirror_mode": {
    "name": "ipython",
    "version": 3
   },
   "file_extension": ".py",
   "mimetype": "text/x-python",
   "name": "python",
   "nbconvert_exporter": "python",
   "pygments_lexer": "ipython3",
   "version": "3.7.6"
  }
 },
 "nbformat": 4,
 "nbformat_minor": 2
}
